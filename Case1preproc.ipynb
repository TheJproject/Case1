{
 "cells": [
  {
   "cell_type": "code",
   "execution_count": 1,
   "metadata": {},
   "outputs": [
    {
     "name": "stdout",
     "output_type": "stream",
     "text": [
      "Requirement already satisfied: missingno in /home/jonah/snap/jupyter/common/lib/python3.7/site-packages (0.4.2)\n",
      "Requirement already satisfied: numpy in /home/jonah/snap/jupyter/common/lib/python3.7/site-packages (from missingno) (1.20.0)\n",
      "Requirement already satisfied: matplotlib in /home/jonah/snap/jupyter/common/lib/python3.7/site-packages (from missingno) (3.3.4)\n",
      "Requirement already satisfied: seaborn in /home/jonah/snap/jupyter/common/lib/python3.7/site-packages (from missingno) (0.11.1)\n",
      "Requirement already satisfied: scipy in /home/jonah/snap/jupyter/common/lib/python3.7/site-packages (from missingno) (1.6.0)\n",
      "Requirement already satisfied: cycler>=0.10 in /home/jonah/snap/jupyter/common/lib/python3.7/site-packages (from matplotlib->missingno) (0.10.0)\n",
      "Requirement already satisfied: pillow>=6.2.0 in /home/jonah/snap/jupyter/common/lib/python3.7/site-packages (from matplotlib->missingno) (8.1.0)\n",
      "Requirement already satisfied: kiwisolver>=1.0.1 in /home/jonah/snap/jupyter/common/lib/python3.7/site-packages (from matplotlib->missingno) (1.3.1)\n",
      "Requirement already satisfied: python-dateutil>=2.1 in /snap/jupyter/6/lib/python3.7/site-packages (from matplotlib->missingno) (2.8.0)\n",
      "Requirement already satisfied: pyparsing!=2.0.4,!=2.1.2,!=2.1.6,>=2.0.3 in /home/jonah/snap/jupyter/common/lib/python3.7/site-packages (from matplotlib->missingno) (2.4.7)\n",
      "Requirement already satisfied: pandas>=0.23 in /home/jonah/snap/jupyter/common/lib/python3.7/site-packages (from seaborn->missingno) (1.2.1)\n",
      "Requirement already satisfied: six in /snap/jupyter/6/lib/python3.7/site-packages (from cycler>=0.10->matplotlib->missingno) (1.12.0)\n",
      "Requirement already satisfied: pytz>=2017.3 in /home/jonah/snap/jupyter/common/lib/python3.7/site-packages (from pandas>=0.23->seaborn->missingno) (2021.1)\n"
     ]
    },
    {
     "name": "stderr",
     "output_type": "stream",
     "text": [
      "/home/jonah/snap/jupyter/common/lib/python3.7/site-packages/joblib/_multiprocessing_helpers.py:45: UserWarning: [Errno 13] Permission denied.  joblib will operate in serial mode\n",
      "  warnings.warn('%s.  joblib will operate in serial mode' % (e,))\n"
     ]
    }
   ],
   "source": [
    "import sys  \n",
    "!{sys.executable} -m pip install --user missingno\n",
    "\n",
    "import numpy as np # linear algebra\n",
    "import pandas as pd # data processing, CSV file I/O (e.g. pd.read_csv)\n",
    "import missingno\n",
    "from sklearn.model_selection import train_test_split\n",
    "from sklearn.model_selection import StratifiedShuffleSplit\n",
    "from pandas.plotting import scatter_matrix\n",
    "from sklearn.preprocessing import OrdinalEncoder\n",
    "from sklearn.preprocessing import OneHotEncoder\n",
    "from scipy import stats\n",
    "from sklearn.manifold import TSNE\n",
    "from sklearn.pipeline import Pipeline\n",
    "from sklearn.preprocessing import StandardScaler\n",
    "from sklearn.compose import ColumnTransformer\n",
    "import math"
   ]
  },
  {
   "cell_type": "code",
   "execution_count": 2,
   "metadata": {},
   "outputs": [
    {
     "name": "stderr",
     "output_type": "stream",
     "text": [
      "/snap/jupyter/6/lib/python3.7/site-packages/ipykernel_launcher.py:1: ParserWarning: Falling back to the 'python' engine because the 'c' engine does not support regex separators (separators > 1 char and different from '\\s+' are interpreted as regex); you can avoid this warning by specifying engine='python'.\n",
      "  \"\"\"Entry point for launching an IPython kernel.\n"
     ]
    },
    {
     "data": {
      "text/html": [
       "<div>\n",
       "<style scoped>\n",
       "    .dataframe tbody tr th:only-of-type {\n",
       "        vertical-align: middle;\n",
       "    }\n",
       "\n",
       "    .dataframe tbody tr th {\n",
       "        vertical-align: top;\n",
       "    }\n",
       "\n",
       "    .dataframe thead th {\n",
       "        text-align: right;\n",
       "    }\n",
       "</style>\n",
       "<table border=\"1\" class=\"dataframe\">\n",
       "  <thead>\n",
       "    <tr style=\"text-align: right;\">\n",
       "      <th></th>\n",
       "      <th>y</th>\n",
       "      <th>x_1</th>\n",
       "      <th>x_2</th>\n",
       "      <th>x_3</th>\n",
       "      <th>x_4</th>\n",
       "      <th>x_5</th>\n",
       "      <th>x_6</th>\n",
       "      <th>x_7</th>\n",
       "      <th>x_8</th>\n",
       "      <th>x_9</th>\n",
       "      <th>...</th>\n",
       "      <th>x_91</th>\n",
       "      <th>x_92</th>\n",
       "      <th>x_93</th>\n",
       "      <th>x_94</th>\n",
       "      <th>x_95</th>\n",
       "      <th>C_1</th>\n",
       "      <th>C_2</th>\n",
       "      <th>C_3</th>\n",
       "      <th>C_4</th>\n",
       "      <th>C_5</th>\n",
       "    </tr>\n",
       "  </thead>\n",
       "  <tbody>\n",
       "    <tr>\n",
       "      <th>0</th>\n",
       "      <td>-69.393097</td>\n",
       "      <td>10.055585</td>\n",
       "      <td>0.289036</td>\n",
       "      <td>-46.748373</td>\n",
       "      <td>9.289237</td>\n",
       "      <td>9.729013</td>\n",
       "      <td>17.036793</td>\n",
       "      <td>-12.430320</td>\n",
       "      <td>11.015882</td>\n",
       "      <td>2.256337</td>\n",
       "      <td>...</td>\n",
       "      <td>9.799563</td>\n",
       "      <td>15.842689</td>\n",
       "      <td>-9.527268</td>\n",
       "      <td>8.680547</td>\n",
       "      <td>6.870564</td>\n",
       "      <td>NaN</td>\n",
       "      <td>I</td>\n",
       "      <td>NaN</td>\n",
       "      <td>H</td>\n",
       "      <td>K</td>\n",
       "    </tr>\n",
       "    <tr>\n",
       "      <th>1</th>\n",
       "      <td>-45.143269</td>\n",
       "      <td>5.661929</td>\n",
       "      <td>-8.172350</td>\n",
       "      <td>-51.445846</td>\n",
       "      <td>2.869381</td>\n",
       "      <td>5.857869</td>\n",
       "      <td>16.976673</td>\n",
       "      <td>-14.625289</td>\n",
       "      <td>1.945814</td>\n",
       "      <td>-7.452895</td>\n",
       "      <td>...</td>\n",
       "      <td>-2.533666</td>\n",
       "      <td>12.984296</td>\n",
       "      <td>-9.138499</td>\n",
       "      <td>1.790938</td>\n",
       "      <td>-0.278660</td>\n",
       "      <td>K</td>\n",
       "      <td>I</td>\n",
       "      <td>I</td>\n",
       "      <td>I</td>\n",
       "      <td>K</td>\n",
       "    </tr>\n",
       "    <tr>\n",
       "      <th>2</th>\n",
       "      <td>-117.340541</td>\n",
       "      <td>1.420570</td>\n",
       "      <td>-7.479476</td>\n",
       "      <td>-51.696962</td>\n",
       "      <td>-1.654729</td>\n",
       "      <td>4.731166</td>\n",
       "      <td>9.848327</td>\n",
       "      <td>-15.459621</td>\n",
       "      <td>3.922184</td>\n",
       "      <td>-1.210801</td>\n",
       "      <td>...</td>\n",
       "      <td>3.461843</td>\n",
       "      <td>15.294486</td>\n",
       "      <td>-13.668956</td>\n",
       "      <td>5.448614</td>\n",
       "      <td>1.847178</td>\n",
       "      <td>G</td>\n",
       "      <td>H</td>\n",
       "      <td>I</td>\n",
       "      <td>J</td>\n",
       "      <td>K</td>\n",
       "    </tr>\n",
       "    <tr>\n",
       "      <th>3</th>\n",
       "      <td>-176.817697</td>\n",
       "      <td>7.716013</td>\n",
       "      <td>-7.750335</td>\n",
       "      <td>-49.142539</td>\n",
       "      <td>1.118904</td>\n",
       "      <td>5.283744</td>\n",
       "      <td>16.822317</td>\n",
       "      <td>-12.166760</td>\n",
       "      <td>1.292544</td>\n",
       "      <td>-2.182322</td>\n",
       "      <td>...</td>\n",
       "      <td>4.470430</td>\n",
       "      <td>17.564489</td>\n",
       "      <td>-13.049522</td>\n",
       "      <td>3.505629</td>\n",
       "      <td>2.672849</td>\n",
       "      <td>I</td>\n",
       "      <td>I</td>\n",
       "      <td>J</td>\n",
       "      <td>G</td>\n",
       "      <td>J</td>\n",
       "    </tr>\n",
       "    <tr>\n",
       "      <th>4</th>\n",
       "      <td>-22.875939</td>\n",
       "      <td>5.195233</td>\n",
       "      <td>-8.252987</td>\n",
       "      <td>-52.143856</td>\n",
       "      <td>2.112213</td>\n",
       "      <td>2.034861</td>\n",
       "      <td>12.717198</td>\n",
       "      <td>-22.389714</td>\n",
       "      <td>1.438919</td>\n",
       "      <td>-7.308590</td>\n",
       "      <td>...</td>\n",
       "      <td>-1.374044</td>\n",
       "      <td>11.119488</td>\n",
       "      <td>-9.881581</td>\n",
       "      <td>2.819918</td>\n",
       "      <td>-0.221832</td>\n",
       "      <td>I</td>\n",
       "      <td>H</td>\n",
       "      <td>K</td>\n",
       "      <td>J</td>\n",
       "      <td>K</td>\n",
       "    </tr>\n",
       "  </tbody>\n",
       "</table>\n",
       "<p>5 rows × 101 columns</p>\n",
       "</div>"
      ],
      "text/plain": [
       "            y        x_1       x_2        x_3       x_4       x_5        x_6  \\\n",
       "0  -69.393097  10.055585  0.289036 -46.748373  9.289237  9.729013  17.036793   \n",
       "1  -45.143269   5.661929 -8.172350 -51.445846  2.869381  5.857869  16.976673   \n",
       "2 -117.340541   1.420570 -7.479476 -51.696962 -1.654729  4.731166   9.848327   \n",
       "3 -176.817697   7.716013 -7.750335 -49.142539  1.118904  5.283744  16.822317   \n",
       "4  -22.875939   5.195233 -8.252987 -52.143856  2.112213  2.034861  12.717198   \n",
       "\n",
       "         x_7        x_8       x_9  ...      x_91       x_92       x_93  \\\n",
       "0 -12.430320  11.015882  2.256337  ...  9.799563  15.842689  -9.527268   \n",
       "1 -14.625289   1.945814 -7.452895  ... -2.533666  12.984296  -9.138499   \n",
       "2 -15.459621   3.922184 -1.210801  ...  3.461843  15.294486 -13.668956   \n",
       "3 -12.166760   1.292544 -2.182322  ...  4.470430  17.564489 -13.049522   \n",
       "4 -22.389714   1.438919 -7.308590  ... -1.374044  11.119488  -9.881581   \n",
       "\n",
       "       x_94      x_95  C_1  C_2  C_3  C_4  C_5  \n",
       "0  8.680547  6.870564  NaN    I  NaN    H    K  \n",
       "1  1.790938 -0.278660    K    I    I    I    K  \n",
       "2  5.448614  1.847178    G    H    I    J    K  \n",
       "3  3.505629  2.672849    I    I    J    G    J  \n",
       "4  2.819918 -0.221832    I    H    K    J    K  \n",
       "\n",
       "[5 rows x 101 columns]"
      ]
     },
     "execution_count": 2,
     "metadata": {},
     "output_type": "execute_result"
    }
   ],
   "source": [
    "train_data = pd.read_csv('Case1/case1Data.txt', sep=\", \", header=0,index_col=None)\n",
    "mod_train_data = train_data\n",
    "mod_train_data.head()"
   ]
  },
  {
   "cell_type": "code",
   "execution_count": 3,
   "metadata": {},
   "outputs": [],
   "source": [
    "mod_train_data = train_data.replace(' NaN',np.nan)"
   ]
  },
  {
   "cell_type": "code",
   "execution_count": 4,
   "metadata": {},
   "outputs": [
    {
     "data": {
      "text/plain": [
       "True"
      ]
     },
     "execution_count": 4,
     "metadata": {},
     "output_type": "execute_result"
    }
   ],
   "source": [
    "math.isnan(mod_train_data.iloc[0][98])"
   ]
  },
  {
   "cell_type": "code",
   "execution_count": 5,
   "metadata": {},
   "outputs": [
    {
     "name": "stdout",
     "output_type": "stream",
     "text": [
      "<class 'pandas.core.frame.DataFrame'>\n",
      "RangeIndex: 100 entries, 0 to 99\n",
      "Columns: 101 entries, y to C_5\n",
      "dtypes: float64(96), object(5)\n",
      "memory usage: 79.0+ KB\n"
     ]
    }
   ],
   "source": [
    "mod_train_data.info()"
   ]
  },
  {
   "cell_type": "code",
   "execution_count": 6,
   "metadata": {},
   "outputs": [
    {
     "data": {
      "text/plain": [
       "<AxesSubplot:>"
      ]
     },
     "execution_count": 6,
     "metadata": {},
     "output_type": "execute_result"
    },
    {
     "data": {
      "image/png": "[encoded data removed]",
      "text/plain": [
       "<Figure size 2160x360 with 2 Axes>"
      ]
     },
     "metadata": {
      "needs_background": "light"
     },
     "output_type": "display_data"
    }
   ],
   "source": [
    "missingno.matrix(mod_train_data, figsize = (30,5), labels=True)"
   ]
  },
  {
   "cell_type": "code",
   "execution_count": 7,
   "metadata": {},
   "outputs": [],
   "source": [
    "#mod_train_data.info(verbose=True)\n"
   ]
  },
  {
   "cell_type": "code",
   "execution_count": 8,
   "metadata": {},
   "outputs": [],
   "source": [
    "#import matplotlib.pyplot as plt\n",
    "#mod_train_data.drop(mod_train_data.columns[[-1, -2, -3, -4, -5]], axis=1, inplace=True)\n",
    "#mod_train_data.hist(bins=50, figsize=(20,15))\n",
    "#plt.show()"
   ]
  },
  {
   "cell_type": "code",
   "execution_count": 9,
   "metadata": {},
   "outputs": [
    {
     "name": "stdout",
     "output_type": "stream",
     "text": [
      "K      19\n",
      "I      19\n",
      "G      17\n",
      "J      16\n",
      "NaN    15\n",
      "H      14\n",
      "Name: C_1, dtype: int64\n",
      "I      44\n",
      "H      41\n",
      "NaN    15\n",
      "Name: C_2, dtype: int64\n",
      "H      23\n",
      "J      21\n",
      "I      16\n",
      "G      14\n",
      "NaN    13\n",
      "K      13\n",
      "Name: C_3, dtype: int64\n",
      "J      19\n",
      "H      19\n",
      "I      18\n",
      "G      18\n",
      "K      16\n",
      "NaN    10\n",
      "Name: C_4, dtype: int64\n",
      "H      22\n",
      "K      20\n",
      "J      17\n",
      "I      14\n",
      "G      14\n",
      "NaN    13\n",
      "Name: C_5, dtype: int64\n"
     ]
    }
   ],
   "source": [
    "#print(mod_train_data_cat.iloc[:,0])\n",
    "attributes = [\"C_1\", \"C_2\",\"C_3\",\"C_4\",\"C_5\"]\n",
    "mod_train_data_cat = mod_train_data[attributes]\n",
    "for i in range(5):\n",
    "    col = mod_train_data_cat.iloc[:,i]\n",
    "    print(col.value_counts(dropna=False))\n"
   ]
  },
  {
   "cell_type": "code",
   "execution_count": 10,
   "metadata": {},
   "outputs": [],
   "source": [
    "mod_train_data2 = mod_train_data\n",
    "mod_train_data2 =mod_train_data2.replace(np.nan, 'Missing')"
   ]
  },
  {
   "cell_type": "code",
   "execution_count": 11,
   "metadata": {},
   "outputs": [
    {
     "name": "stdout",
     "output_type": "stream",
     "text": [
      "    C_1  C_2  C_3 C_4 C_5\n",
      "0   NaN    I  NaN   H   K\n",
      "1     K    I    I   I   K\n",
      "2     G    H    I   J   K\n",
      "3     I    I    J   G   J\n",
      "4     I    H    K   J   K\n",
      "..  ...  ...  ...  ..  ..\n",
      "95    G  NaN    J   G   I\n",
      "96    G    H  NaN   K   I\n",
      "97    I  NaN    K   I   K\n",
      "98    K    I    I   K   H\n",
      "99    K    I    G   I   I\n",
      "\n",
      "[100 rows x 5 columns]\n",
      "   C_1 C_2 C_3 C_4 C_5\n",
      "0    I   I   J   H   K\n",
      "1    K   I   I   I   K\n",
      "2    G   H   I   J   K\n",
      "3    I   I   J   G   J\n",
      "4    I   H   K   J   K\n",
      "..  ..  ..  ..  ..  ..\n",
      "95   G   I   J   G   I\n",
      "96   G   H   G   K   I\n",
      "97   I   I   K   I   K\n",
      "98   K   I   I   K   H\n",
      "99   K   I   G   I   I\n",
      "\n",
      "[100 rows x 5 columns]\n"
     ]
    },
    {
     "data": {
      "text/plain": [
       "'\\nhttps://stackoverflow.com/questions/27474439/fill-multiple-nulls-for-categorical-data\\n'"
      ]
     },
     "execution_count": 11,
     "metadata": {},
     "output_type": "execute_result"
    }
   ],
   "source": [
    "attributes = [\"C_1\", \"C_2\",\"C_3\",\"C_4\",\"C_5\"]\n",
    "mod_train_data_cat = mod_train_data[attributes]\n",
    "print(mod_train_data_cat)\n",
    "for i in range(5):\n",
    "    col = mod_train_data_cat.iloc[:,i]\n",
    "    colcount = col.value_counts()\n",
    "    dist = stats.rv_discrete(values=((np.arange(colcount.shape[0]), colcount/colcount.sum())),seed=42)\n",
    "    fill_idxs = dist.rvs(size=mod_train_data_cat.shape[0] - col.count())\n",
    "    col.loc[col.isnull()] = colcount.iloc[fill_idxs].index.values\n",
    "print(mod_train_data_cat)\n",
    "mod_train_data[attributes] = mod_train_data_cat\n",
    "\"\"\"\n",
    "https://stackoverflow.com/questions/27474439/fill-multiple-nulls-for-categorical-data\n",
    "\"\"\""
   ]
  },
  {
   "cell_type": "code",
   "execution_count": 12,
   "metadata": {},
   "outputs": [],
   "source": [
    "x_train, x_test, y_train, y_test = train_test_split(mod_train_data.drop(columns='y'),mod_train_data.iloc[:,0],test_size=0.2, random_state=42)"
   ]
  },
  {
   "cell_type": "code",
   "execution_count": 13,
   "metadata": {},
   "outputs": [],
   "source": [
    "x_train, x_test, y_train, y_test = train_test_split(mod_train_data2.drop(columns='y'),mod_train_data2.iloc[:,0],test_size=0.2, random_state=42)"
   ]
  },
  {
   "cell_type": "code",
   "execution_count": 14,
   "metadata": {},
   "outputs": [
    {
     "data": {
      "text/plain": [
       "<AxesSubplot:>"
      ]
     },
     "execution_count": 14,
     "metadata": {},
     "output_type": "execute_result"
    },
    {
     "data": {
      "image/png": "[encoded data removed]",
      "text/plain": [
       "<Figure size 2160x360 with 2 Axes>"
      ]
     },
     "metadata": {
      "needs_background": "light"
     },
     "output_type": "display_data"
    }
   ],
   "source": [
    "missingno.matrix(mod_train_data, figsize = (30,5), labels=True)"
   ]
  },
  {
   "cell_type": "code",
   "execution_count": 15,
   "metadata": {
    "scrolled": true
   },
   "outputs": [
    {
     "name": "stdout",
     "output_type": "stream",
     "text": [
      "[[2. 1. 3. 1. 4.]\n",
      " [4. 1. 2. 2. 4.]\n",
      " [0. 0. 2. 3. 4.]\n",
      " [2. 1. 3. 0. 3.]\n",
      " [2. 0. 4. 3. 4.]\n",
      " [0. 0. 3. 2. 1.]\n",
      " [1. 1. 1. 4. 4.]\n",
      " [4. 1. 0. 0. 0.]\n",
      " [4. 1. 2. 0. 3.]\n",
      " [4. 0. 2. 4. 3.]\n",
      " [0. 1. 2. 1. 1.]\n",
      " [4. 0. 1. 1. 4.]\n",
      " [4. 1. 1. 4. 0.]\n",
      " [4. 0. 1. 1. 1.]\n",
      " [4. 0. 0. 2. 0.]\n",
      " [1. 1. 4. 0. 4.]\n",
      " [3. 0. 3. 1. 1.]\n",
      " [1. 0. 1. 2. 1.]\n",
      " [4. 0. 4. 0. 3.]\n",
      " [4. 1. 0. 4. 0.]\n",
      " [0. 0. 1. 0. 4.]\n",
      " [4. 1. 0. 4. 0.]\n",
      " [2. 0. 1. 2. 0.]\n",
      " [3. 1. 2. 1. 4.]\n",
      " [0. 1. 1. 3. 2.]\n",
      " [2. 0. 3. 2. 3.]\n",
      " [4. 1. 1. 4. 1.]\n",
      " [3. 0. 1. 3. 0.]\n",
      " [0. 1. 3. 1. 0.]\n",
      " [0. 1. 0. 3. 2.]\n",
      " [0. 0. 1. 0. 3.]\n",
      " [2. 1. 2. 1. 2.]\n",
      " [3. 0. 2. 1. 1.]\n",
      " [4. 0. 1. 3. 1.]\n",
      " [3. 0. 1. 4. 3.]\n",
      " [0. 0. 3. 3. 1.]\n",
      " [2. 0. 4. 3. 0.]\n",
      " [2. 1. 3. 0. 4.]\n",
      " [3. 0. 3. 3. 3.]\n",
      " [1. 1. 1. 2. 3.]\n",
      " [3. 0. 3. 0. 1.]\n",
      " [4. 1. 0. 3. 2.]\n",
      " [1. 0. 2. 3. 3.]\n",
      " [2. 0. 0. 4. 1.]\n",
      " [4. 1. 4. 1. 2.]\n",
      " [1. 1. 2. 2. 2.]\n",
      " [1. 0. 2. 1. 1.]\n",
      " [4. 0. 2. 0. 4.]\n",
      " [2. 1. 2. 4. 1.]\n",
      " [4. 1. 1. 0. 1.]\n",
      " [0. 1. 0. 2. 4.]\n",
      " [4. 1. 4. 4. 4.]\n",
      " [1. 1. 1. 1. 1.]\n",
      " [1. 1. 3. 0. 4.]\n",
      " [1. 0. 1. 0. 3.]\n",
      " [1. 0. 3. 0. 3.]\n",
      " [0. 1. 4. 3. 1.]\n",
      " [2. 0. 3. 3. 0.]\n",
      " [3. 1. 3. 0. 0.]\n",
      " [3. 0. 2. 3. 2.]\n",
      " [3. 1. 1. 4. 1.]\n",
      " [3. 0. 0. 1. 4.]\n",
      " [1. 1. 0. 1. 0.]\n",
      " [4. 1. 1. 2. 2.]\n",
      " [1. 0. 0. 3. 4.]\n",
      " [3. 1. 0. 0. 2.]\n",
      " [0. 0. 2. 3. 4.]\n",
      " [1. 1. 1. 2. 3.]\n",
      " [3. 0. 3. 4. 2.]\n",
      " [2. 0. 4. 2. 4.]\n",
      " [1. 0. 2. 3. 2.]\n",
      " [2. 0. 4. 0. 1.]\n",
      " [0. 0. 2. 1. 0.]\n",
      " [3. 0. 4. 3. 3.]\n",
      " [3. 0. 3. 4. 0.]\n",
      " [4. 1. 1. 4. 0.]\n",
      " [2. 1. 1. 1. 1.]\n",
      " [0. 0. 3. 4. 1.]\n",
      " [1. 1. 0. 4. 2.]\n",
      " [0. 1. 3. 2. 1.]\n",
      " [1. 0. 4. 3. 1.]\n",
      " [0. 1. 1. 2. 1.]\n",
      " [3. 1. 3. 1. 4.]\n",
      " [4. 0. 1. 1. 3.]\n",
      " [2. 1. 4. 0. 3.]\n",
      " [2. 0. 3. 0. 3.]\n",
      " [3. 0. 1. 1. 1.]\n",
      " [2. 1. 1. 2. 2.]\n",
      " [4. 0. 0. 2. 1.]\n",
      " [3. 1. 4. 2. 3.]\n",
      " [3. 0. 4. 3. 0.]\n",
      " [4. 1. 1. 2. 4.]\n",
      " [0. 1. 0. 3. 0.]\n",
      " [2. 1. 3. 1. 3.]\n",
      " [2. 0. 4. 3. 2.]\n",
      " [0. 1. 3. 0. 2.]\n",
      " [0. 0. 0. 4. 2.]\n",
      " [2. 1. 4. 2. 4.]\n",
      " [4. 1. 2. 4. 1.]\n",
      " [4. 1. 0. 2. 2.]]\n"
     ]
    },
    {
     "data": {
      "text/plain": [
       "[array(['G', 'H', 'I', 'J', 'K'], dtype=object),\n",
       " array(['H', 'I'], dtype=object),\n",
       " array(['G', 'H', 'I', 'J', 'K'], dtype=object),\n",
       " array(['G', 'H', 'I', 'J', 'K'], dtype=object),\n",
       " array(['G', 'H', 'I', 'J', 'K'], dtype=object)]"
      ]
     },
     "execution_count": 15,
     "metadata": {},
     "output_type": "execute_result"
    }
   ],
   "source": [
    "ordinal_encoder = OrdinalEncoder()\n",
    "attributes = [\"C_1\", \"C_2\",\"C_3\",\"C_4\",\"C_5\"]\n",
    "mod_train_data_encoded = ordinal_encoder.fit_transform(mod_train_data[attributes])\n",
    "print(mod_train_data_encoded)\n",
    "ordinal_encoder.categories_"
   ]
  },
  {
   "cell_type": "code",
   "execution_count": 16,
   "metadata": {},
   "outputs": [],
   "source": [
    "num_pipeline = Pipeline([\n",
    "('std_scaler', StandardScaler()),\n",
    " #'pca', PCA(n_components=0.95),\n",
    "])"
   ]
  },
  {
   "cell_type": "code",
   "execution_count": 17,
   "metadata": {},
   "outputs": [],
   "source": [
    "num_attribs = list(mod_train_data[mod_train_data.columns[1:-5]])\n",
    "cat_attribs = [\"C_1\", \"C_2\",\"C_3\",\"C_4\",\"C_5\"]\n",
    "full_pipeline = ColumnTransformer([\n",
    "(\"num\", num_pipeline, num_attribs),\n",
    "(\"cat\",  OneHotEncoder(), cat_attribs), #or OrdinalEncoder()\n",
    "])"
   ]
  },
  {
   "cell_type": "code",
   "execution_count": 21,
   "metadata": {},
   "outputs": [
    {
     "name": "stdout",
     "output_type": "stream",
     "text": [
      "Stored 'x_train_prepared' (ndarray)\n",
      "Stored 'x_test_prepared' (ndarray)\n",
      "Stored 'y_train' (Series)\n",
      "Stored 'y_test' (Series)\n"
     ]
    }
   ],
   "source": [
    "x_train_prepared = full_pipeline.fit_transform(x_train)\n",
    "x_test_prepared = full_pipeline.transform(x_test)\n",
    "\n",
    "%store x_train_prepared\n",
    "%store x_test_prepared\n",
    "%store y_train\n",
    "%store y_test\n"
   ]
  },
  {
   "cell_type": "code",
   "execution_count": null,
   "metadata": {},
   "outputs": [],
   "source": [
    "corr_matrix = mod_train_data.corr()\n",
    "corr_matrix[\"y\"].sort_values(ascending=False)"
   ]
  },
  {
   "cell_type": "code",
   "execution_count": null,
   "metadata": {
    "scrolled": true
   },
   "outputs": [],
   "source": [
    "attributes = [\"y\", \"x_73\", \"x_42\",\"x_52\"]\n",
    "scatter_matrix(mod_train_data[attributes], figsize=(12, 8))"
   ]
  }
 ],
 "metadata": {
  "kernelspec": {
   "display_name": "Python 3",
   "language": "python",
   "name": "python3"
  },
  "language_info": {
   "codemirror_mode": {
    "name": "ipython",
    "version": 3
   },
   "file_extension": ".py",
   "mimetype": "text/x-python",
   "name": "python",
   "nbconvert_exporter": "python",
   "pygments_lexer": "ipython3",
   "version": "3.7.3"
  }
 },
 "nbformat": 4,
 "nbformat_minor": 2
}
