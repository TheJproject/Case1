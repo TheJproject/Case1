{
 "cells": [
  {
   "cell_type": "code",
   "execution_count": 40,
   "metadata": {},
   "outputs": [
    {
     "name": "stdout",
     "output_type": "stream",
     "text": [
      "Requirement already satisfied: xgboost in /home/jonah/snap/jupyter/common/lib/python3.7/site-packages (1.3.3)\n",
      "Requirement already satisfied: scipy in /home/jonah/snap/jupyter/common/lib/python3.7/site-packages (from xgboost) (1.6.0)\n",
      "Requirement already satisfied: numpy in /home/jonah/snap/jupyter/common/lib/python3.7/site-packages (from xgboost) (1.20.0)\n",
      "Requirement already satisfied: lightgbm in /home/jonah/snap/jupyter/common/lib/python3.7/site-packages (3.1.1)\n",
      "Requirement already satisfied: wheel in /snap/jupyter/6/lib/python3.7/site-packages (from lightgbm) (0.33.4)\n",
      "Requirement already satisfied: numpy in /home/jonah/snap/jupyter/common/lib/python3.7/site-packages (from lightgbm) (1.20.0)\n",
      "Requirement already satisfied: scikit-learn!=0.22.0 in /home/jonah/snap/jupyter/common/lib/python3.7/site-packages (from lightgbm) (0.24.1)\n",
      "Requirement already satisfied: scipy in /home/jonah/snap/jupyter/common/lib/python3.7/site-packages (from lightgbm) (1.6.0)\n",
      "Requirement already satisfied: threadpoolctl>=2.0.0 in /home/jonah/snap/jupyter/common/lib/python3.7/site-packages (from scikit-learn!=0.22.0->lightgbm) (2.1.0)\n",
      "Requirement already satisfied: joblib>=0.11 in /home/jonah/snap/jupyter/common/lib/python3.7/site-packages (from scikit-learn!=0.22.0->lightgbm) (1.0.0)\n",
      "Requirement already satisfied: mlxtend in /home/jonah/snap/jupyter/common/lib/python3.7/site-packages (0.18.0)\n",
      "Requirement already satisfied: numpy>=1.16.2 in /home/jonah/snap/jupyter/common/lib/python3.7/site-packages (from mlxtend) (1.20.0)\n",
      "Requirement already satisfied: setuptools in /snap/jupyter/6/lib/python3.7/site-packages (from mlxtend) (41.0.1)\n",
      "Requirement already satisfied: scipy>=1.2.1 in /home/jonah/snap/jupyter/common/lib/python3.7/site-packages (from mlxtend) (1.6.0)\n",
      "Requirement already satisfied: pandas>=0.24.2 in /home/jonah/snap/jupyter/common/lib/python3.7/site-packages (from mlxtend) (1.2.1)\n",
      "Requirement already satisfied: matplotlib>=3.0.0 in /home/jonah/snap/jupyter/common/lib/python3.7/site-packages (from mlxtend) (3.3.4)\n",
      "Requirement already satisfied: scikit-learn>=0.20.3 in /home/jonah/snap/jupyter/common/lib/python3.7/site-packages (from mlxtend) (0.24.1)\n",
      "Requirement already satisfied: joblib>=0.13.2 in /home/jonah/snap/jupyter/common/lib/python3.7/site-packages (from mlxtend) (1.0.0)\n",
      "Requirement already satisfied: pytz>=2017.3 in /home/jonah/snap/jupyter/common/lib/python3.7/site-packages (from pandas>=0.24.2->mlxtend) (2021.1)\n",
      "Requirement already satisfied: python-dateutil>=2.7.3 in /snap/jupyter/6/lib/python3.7/site-packages (from pandas>=0.24.2->mlxtend) (2.8.0)\n",
      "Requirement already satisfied: kiwisolver>=1.0.1 in /home/jonah/snap/jupyter/common/lib/python3.7/site-packages (from matplotlib>=3.0.0->mlxtend) (1.3.1)\n",
      "Requirement already satisfied: cycler>=0.10 in /home/jonah/snap/jupyter/common/lib/python3.7/site-packages (from matplotlib>=3.0.0->mlxtend) (0.10.0)\n",
      "Requirement already satisfied: pyparsing!=2.0.4,!=2.1.2,!=2.1.6,>=2.0.3 in /home/jonah/snap/jupyter/common/lib/python3.7/site-packages (from matplotlib>=3.0.0->mlxtend) (2.4.7)\n",
      "Requirement already satisfied: pillow>=6.2.0 in /home/jonah/snap/jupyter/common/lib/python3.7/site-packages (from matplotlib>=3.0.0->mlxtend) (8.1.0)\n",
      "Requirement already satisfied: threadpoolctl>=2.0.0 in /home/jonah/snap/jupyter/common/lib/python3.7/site-packages (from scikit-learn>=0.20.3->mlxtend) (2.1.0)\n",
      "Requirement already satisfied: six>=1.5 in /snap/jupyter/6/lib/python3.7/site-packages (from python-dateutil>=2.7.3->pandas>=0.24.2->mlxtend) (1.12.0)\n",
      "Requirement already satisfied: graphviz in /home/jonah/snap/jupyter/common/lib/python3.7/site-packages (0.16)\n"
     ]
    }
   ],
   "source": [
    "%%bash\n",
    "pip install xgboost\n",
    "pip install lightgbm\n",
    "pip install mlxtend\n",
    "pip install graphviz"
   ]
  },
  {
   "cell_type": "code",
   "execution_count": 41,
   "metadata": {},
   "outputs": [],
   "source": [
    "import numpy as np # linear algebra\n",
    "import pandas as pd # data processing, CSV file I/O (e.g. pd.read_csv)\n",
    "from sklearn.linear_model import LinearRegression, ElasticNet, Lasso, Ridge\n",
    "from sklearn.svm import SVR\n",
    "from sklearn.tree import DecisionTreeRegressor\n",
    "from sklearn.ensemble import RandomForestRegressor, BaggingRegressor, AdaBoostRegressor, GradientBoostingRegressor\n",
    "from sklearn.metrics import explained_variance_score\n",
    "from sklearn.metrics import mean_squared_error\n",
    "from sklearn.metrics import max_error\n",
    "from sklearn.metrics import r2_score\n",
    "from sklearn.decomposition import PCA\n",
    "from mlxtend.regressor import StackingCVRegressor\n",
    "import matplotlib as mpl\n",
    "import matplotlib.pyplot as plt\n",
    "from scipy.stats import uniform, randint\n",
    "import xgboost\n",
    "from xgboost import XGBRegressor\n",
    "from lightgbm import LGBMRegressor\n",
    "import graphviz\n",
    "import warnings\n",
    "warnings.filterwarnings('ignore')"
   ]
  },
  {
   "cell_type": "code",
   "execution_count": 42,
   "metadata": {},
   "outputs": [],
   "source": [
    "%store -r x_train_prepared\n",
    "%store -r x_test_prepared\n",
    "%store -r y_train\n",
    "%store -r y_test\n"
   ]
  },
  {
   "cell_type": "code",
   "execution_count": 43,
   "metadata": {},
   "outputs": [
    {
     "name": "stdout",
     "output_type": "stream",
     "text": [
      "80\n"
     ]
    }
   ],
   "source": [
    "pca = PCA()\n",
    "pca.fit(x_train_prepared)\n",
    "cumsum = np.cumsum(pca.explained_variance_ratio_)\n",
    "d = np.argmax(cumsum >= 0.95) + 1\n",
    "print(pca.n_components_)"
   ]
  },
  {
   "cell_type": "code",
   "execution_count": 44,
   "metadata": {},
   "outputs": [
    {
     "data": {
      "image/png": "[encoded data removed]",
      "text/plain": [
       "<Figure size 432x288 with 1 Axes>"
      ]
     },
     "metadata": {
      "needs_background": "light"
     },
     "output_type": "display_data"
    }
   ],
   "source": [
    "plt.figure(figsize=(6,4))\n",
    "plt.plot(cumsum, linewidth=3)\n",
    "plt.axis([0, 80, 0, 1.05])\n",
    "plt.xlabel(\"Dimensions\")\n",
    "plt.ylabel(\"Explained Variance\")\n",
    "plt.plot([d, d], [0, 0.95], \"k:\")\n",
    "plt.plot([0, d], [0.95, 0.95], \"k:\")\n",
    "plt.plot(d, 0.95, \"ko\")\n",
    "plt.annotate(\"Elbow\", xy=(65, 0.85), xytext=(70, 0.7),\n",
    "             arrowprops=dict(arrowstyle=\"->\"), fontsize=16)\n",
    "plt.grid(True)\n",
    "plt.show()"
   ]
  },
  {
   "cell_type": "code",
   "execution_count": 45,
   "metadata": {},
   "outputs": [
    {
     "name": "stdout",
     "output_type": "stream",
     "text": [
      "20\n"
     ]
    }
   ],
   "source": [
    "pca = PCA(n_components=0.95)\n",
    "x_reduced = pca.fit_transform(x_train_prepared)\n",
    "x_test_reduced = pca.transform(x_test_prepared)\n",
    "print(len(x_test_prepared))"
   ]
  },
  {
   "cell_type": "code",
   "execution_count": 46,
   "metadata": {},
   "outputs": [
    {
     "name": "stdout",
     "output_type": "stream",
     "text": [
      "52.26443584151022\n",
      "102.17809485110261\n",
      "0.45316127813696494\n"
     ]
    }
   ],
   "source": [
    "lin_reg = LinearRegression()\n",
    "lin_reg.fit(x_reduced, y_train)\n",
    "y_pred = lin_reg.predict(x_test_reduced)\n",
    "print(np.sqrt(mean_squared_error(y_test,y_pred)))\n",
    "print(max_error(y_test,y_pred))\n",
    "print(r2_score(y_test,y_pred))"
   ]
  },
  {
   "cell_type": "code",
   "execution_count": 58,
   "metadata": {},
   "outputs": [
    {
     "name": "stdout",
     "output_type": "stream",
     "text": [
      "62.515120744298805\n",
      "145.70092899003188\n",
      "0.21762155925158966\n"
     ]
    }
   ],
   "source": [
    "ridge_reg = Ridge()\n",
    "ridge_reg.fit(x_train_prepared, y_train)\n",
    "y_pred = ridge_reg.predict(x_test_prepared)\n",
    "print(np.sqrt(mean_squared_error(y_test,y_pred)))\n",
    "print(max_error(y_test,y_pred))\n",
    "print(r2_score(y_test,y_pred))"
   ]
  },
  {
   "cell_type": "code",
   "execution_count": 59,
   "metadata": {},
   "outputs": [
    {
     "name": "stdout",
     "output_type": "stream",
     "text": [
      "38.70818975466528\n",
      "96.95906876368696\n",
      "0.7000475258192909\n"
     ]
    }
   ],
   "source": [
    "lasso_reg = Lasso()\n",
    "lasso_reg.fit(x_train_prepared, y_train)\n",
    "y_pred = lasso_reg.predict(x_test_prepared)\n",
    "print(np.sqrt(mean_squared_error(y_test,y_pred)))\n",
    "print(max_error(y_test,y_pred))\n",
    "print(r2_score(y_test,y_pred))"
   ]
  },
  {
   "cell_type": "code",
   "execution_count": 60,
   "metadata": {},
   "outputs": [
    {
     "name": "stdout",
     "output_type": "stream",
     "text": [
      "48.64319666820108\n",
      "100.7999949922011\n",
      "0.5263135725915586\n"
     ]
    }
   ],
   "source": [
    "enet_reg = ElasticNet()\n",
    "enet_reg.fit(x_train_prepared, y_train)\n",
    "y_pred = enet_reg.predict(x_test_prepared)\n",
    "print(np.sqrt(mean_squared_error(y_test,y_pred)))\n",
    "print(max_error(y_test,y_pred))\n",
    "print(r2_score(y_test,y_pred))"
   ]
  },
  {
   "cell_type": "code",
   "execution_count": 47,
   "metadata": {},
   "outputs": [
    {
     "name": "stdout",
     "output_type": "stream",
     "text": [
      "54.49809443329604\n",
      "104.89634899999999\n",
      "0.405421282268844\n"
     ]
    }
   ],
   "source": [
    "tree_reg = DecisionTreeRegressor()\n",
    "tree_reg.fit(x_train_prepared, y_train)\n",
    "y_pred = tree_reg.predict(x_test_prepared)\n",
    "print(np.sqrt(mean_squared_error(y_test,y_pred)))\n",
    "print(max_error(y_test,y_pred))\n",
    "print(r2_score(y_test,y_pred))"
   ]
  },
  {
   "cell_type": "code",
   "execution_count": 48,
   "metadata": {},
   "outputs": [
    {
     "name": "stdout",
     "output_type": "stream",
     "text": [
      "37.64909141322404\n",
      "79.28249871999995\n",
      "0.7162370270814428\n"
     ]
    }
   ],
   "source": [
    "forest_reg = RandomForestRegressor()\n",
    "forest_reg.fit(x_train_prepared, y_train)\n",
    "y_pred = forest_reg.predict(x_test_prepared)\n",
    "\n",
    "print(np.sqrt(mean_squared_error(y_test,y_pred)))\n",
    "print(max_error(y_test,y_pred))\n",
    "print(r2_score(y_test,y_pred))"
   ]
  },
  {
   "cell_type": "code",
   "execution_count": 49,
   "metadata": {},
   "outputs": [
    {
     "name": "stdout",
     "output_type": "stream",
     "text": [
      "37.78554927666947\n",
      "82.22732210000001\n",
      "0.7141763206855156\n"
     ]
    }
   ],
   "source": [
    "bag_reg = BaggingRegressor()\n",
    "bag_reg.fit(x_train_prepared, y_train)\n",
    "y_pred = bag_reg.predict(x_test_prepared)\n",
    "\n",
    "print(np.sqrt(mean_squared_error(y_test,y_pred)))\n",
    "print(max_error(y_test,y_pred))\n",
    "print(r2_score(y_test,y_pred))"
   ]
  },
  {
   "cell_type": "code",
   "execution_count": 50,
   "metadata": {},
   "outputs": [
    {
     "name": "stdout",
     "output_type": "stream",
     "text": [
      "40.54155138872962\n",
      "98.65243725\n",
      "0.670960941994577\n"
     ]
    }
   ],
   "source": [
    "ada_reg = AdaBoostRegressor()\n",
    "ada_reg.fit(x_train_prepared, y_train)\n",
    "y_pred = ada_reg.predict(x_test_prepared)\n",
    "\n",
    "print(np.sqrt(mean_squared_error(y_test,y_pred)))\n",
    "print(max_error(y_test,y_pred))\n",
    "print(r2_score(y_test,y_pred))"
   ]
  },
  {
   "cell_type": "code",
   "execution_count": 51,
   "metadata": {},
   "outputs": [
    {
     "name": "stdout",
     "output_type": "stream",
     "text": [
      "52.10778490832393\n",
      "118.89938835502983\n",
      "0.45643441855027234\n"
     ]
    }
   ],
   "source": [
    "gbr_reg = GradientBoostingRegressor(n_estimators=3000,\n",
    "                                    learning_rate=0.05, max_depth=4, max_features='sqrt',\n",
    "                                    min_samples_leaf=15, min_samples_split=10, loss='huber', random_state =42)\n",
    "gbr_reg.fit(x_train_prepared, y_train)\n",
    "y_pred = gbr_reg.predict(x_test_prepared)\n",
    "\n",
    "print(np.sqrt(mean_squared_error(y_test,y_pred)))\n",
    "print(max_error(y_test,y_pred))\n",
    "print(r2_score(y_test,y_pred))"
   ]
  },
  {
   "cell_type": "code",
   "execution_count": 52,
   "metadata": {},
   "outputs": [
    {
     "name": "stdout",
     "output_type": "stream",
     "text": [
      "[LightGBM] [Warning] feature_fraction is set=0.2, colsample_bytree=1.0 will be ignored. Current value: feature_fraction=0.2\n",
      "[LightGBM] [Warning] bagging_freq is set=5, subsample_freq=0 will be ignored. Current value: bagging_freq=5\n",
      "[LightGBM] [Warning] bagging_fraction is set=0.75, subsample=1.0 will be ignored. Current value: bagging_fraction=0.75\n",
      "58.77364112867641\n",
      "111.12899426500013\n",
      "0.30846857633683933\n"
     ]
    }
   ],
   "source": [
    "lgbm_reg = LGBMRegressor(objective='regression', \n",
    "                                       num_leaves=4,\n",
    "                                       learning_rate=0.01, \n",
    "                                       n_estimators=5000,\n",
    "                                       max_bin=200, \n",
    "                                       bagging_fraction=0.75,\n",
    "                                       bagging_freq=5, \n",
    "                                       bagging_seed=7,\n",
    "                                       feature_fraction=0.2,\n",
    "                                       feature_fraction_seed=7,\n",
    "                                       verbose=-1,\n",
    "                                       )\n",
    "lgbm_reg.fit(x_train_prepared, y_train)\n",
    "y_pred = lgbm_reg.predict(x_test_prepared)\n",
    "\n",
    "print(np.sqrt(mean_squared_error(y_test,y_pred)))\n",
    "print(max_error(y_test,y_pred))\n",
    "print(r2_score(y_test,y_pred))"
   ]
  },
  {
   "cell_type": "code",
   "execution_count": 53,
   "metadata": {},
   "outputs": [
    {
     "name": "stdout",
     "output_type": "stream",
     "text": [
      "[15:21:41] WARNING: ../src/objective/regression_obj.cu:170: reg:linear is now deprecated in favor of reg:squarederror.\n",
      "35.041868259991624\n",
      "79.56207328222655\n",
      "0.7541777264910765\n"
     ]
    },
    {
     "data": {
      "text/plain": [
       "<AxesSubplot:title={'center':'Feature importance'}, xlabel='F score', ylabel='Features'>"
      ]
     },
     "execution_count": 53,
     "metadata": {},
     "output_type": "execute_result"
    },
    {
     "data": {
      "text/plain": [
       "<Figure size 1440x432 with 0 Axes>"
      ]
     },
     "metadata": {},
     "output_type": "display_data"
    },
    {
     "data": {
      "image/png": "[encoded data removed]",
      "text/plain": [
       "<Figure size 432x288 with 1 Axes>"
      ]
     },
     "metadata": {
      "needs_background": "light"
     },
     "output_type": "display_data"
    }
   ],
   "source": [
    "xgb_reg = XGBRegressor(learning_rate=0.01,n_estimators=3460,\n",
    "                                     max_depth=3, min_child_weight=0,\n",
    "                                     gamma=0, subsample=0.7,\n",
    "                                     colsample_bytree=0.7,\n",
    "                                     objective='reg:linear', nthread=-1,\n",
    "                                     scale_pos_weight=1, seed=27,\n",
    "                                     reg_alpha=0.00006)\n",
    "xgb_reg.fit(x_train_prepared, y_train)\n",
    "y_pred = xgb_reg.predict(x_test_prepared)\n",
    "\n",
    "print(np.sqrt(mean_squared_error(y_test,y_pred)))\n",
    "print(max_error(y_test,y_pred))\n",
    "print(r2_score(y_test,y_pred))\n",
    "plt.figure(figsize=(20, 6))\n",
    "xgboost.plot_importance(xgb_reg)\n"
   ]
  },
  {
   "cell_type": "code",
   "execution_count": 64,
   "metadata": {},
   "outputs": [
    {
     "name": "stdout",
     "output_type": "stream",
     "text": [
      "[LightGBM] [Warning] feature_fraction is set=0.2, colsample_bytree=1.0 will be ignored. Current value: feature_fraction=0.2\n",
      "[LightGBM] [Warning] bagging_freq is set=5, subsample_freq=0 will be ignored. Current value: bagging_freq=5\n",
      "[LightGBM] [Warning] bagging_fraction is set=0.75, subsample=1.0 will be ignored. Current value: bagging_fraction=0.75\n",
      "[LightGBM] [Warning] feature_fraction is set=0.2, colsample_bytree=1.0 will be ignored. Current value: feature_fraction=0.2\n",
      "[LightGBM] [Warning] bagging_freq is set=5, subsample_freq=0 will be ignored. Current value: bagging_freq=5\n",
      "[LightGBM] [Warning] bagging_fraction is set=0.75, subsample=1.0 will be ignored. Current value: bagging_fraction=0.75\n",
      "[LightGBM] [Warning] feature_fraction is set=0.2, colsample_bytree=1.0 will be ignored. Current value: feature_fraction=0.2\n",
      "[LightGBM] [Warning] bagging_freq is set=5, subsample_freq=0 will be ignored. Current value: bagging_freq=5\n",
      "[LightGBM] [Warning] bagging_fraction is set=0.75, subsample=1.0 will be ignored. Current value: bagging_fraction=0.75\n",
      "[LightGBM] [Warning] feature_fraction is set=0.2, colsample_bytree=1.0 will be ignored. Current value: feature_fraction=0.2\n",
      "[LightGBM] [Warning] bagging_freq is set=5, subsample_freq=0 will be ignored. Current value: bagging_freq=5\n",
      "[LightGBM] [Warning] bagging_fraction is set=0.75, subsample=1.0 will be ignored. Current value: bagging_fraction=0.75\n",
      "[LightGBM] [Warning] feature_fraction is set=0.2, colsample_bytree=1.0 will be ignored. Current value: feature_fraction=0.2\n",
      "[LightGBM] [Warning] bagging_freq is set=5, subsample_freq=0 will be ignored. Current value: bagging_freq=5\n",
      "[LightGBM] [Warning] bagging_fraction is set=0.75, subsample=1.0 will be ignored. Current value: bagging_fraction=0.75\n",
      "[LightGBM] [Warning] feature_fraction is set=0.2, colsample_bytree=1.0 will be ignored. Current value: feature_fraction=0.2\n",
      "[LightGBM] [Warning] bagging_freq is set=5, subsample_freq=0 will be ignored. Current value: bagging_freq=5\n",
      "[LightGBM] [Warning] bagging_fraction is set=0.75, subsample=1.0 will be ignored. Current value: bagging_fraction=0.75\n",
      "37.13173822204522\n",
      "62.21243670825195\n",
      "0.7239820755003297\n"
     ]
    }
   ],
   "source": [
    "regressors=(gbr_reg, forest_reg, ada_reg,bag_reg, xgb_reg, lgbm_reg,lasso_reg,enet_reg,ridge_reg)\n",
    "stack_reg = StackingCVRegressor(regressors=regressors,\n",
    "                                meta_regressor=xgb_reg,\n",
    "                                use_features_in_secondary=True)\n",
    "stack_reg.fit(x_train_prepared, y_train)\n",
    "y_pred = stack_reg.predict(x_test_prepared)\n",
    "\n",
    "print(np.sqrt(mean_squared_error(y_test,y_pred)))\n",
    "print(max_error(y_test,y_pred))\n",
    "print(r2_score(y_test,y_pred))"
   ]
  },
  {
   "cell_type": "code",
   "execution_count": null,
   "metadata": {},
   "outputs": [
    {
     "name": "stdout",
     "output_type": "stream",
     "text": [
      "Fitting 5 folds for each of 200 candidates, totalling 1000 fits\n"
     ]
    }
   ],
   "source": [
    "from sklearn.model_selection import RandomizedSearchCV\n",
    "xgb_reg = XGBRegressor(n_estimators=3460)\n",
    "params = {\n",
    "    \"colsample_bytree\": uniform(0.7, 0.3),\n",
    "    \"learning_rate\": uniform(0.01, 0.1), # default 0.1 \n",
    "    \"max_depth\": randint(2, 6), # default 3\n",
    "    \"subsample\": uniform(0.6, 0.4)\n",
    "}\n",
    "rand_search = RandomizedSearchCV(xgb_reg, params,  random_state=42, n_iter=200, cv=5, verbose=1, n_jobs=-1, return_train_score=True)\n",
    "rand_search.fit(x_train_prepared, y_train)\n",
    "print(rand_search.best_estimator_)"
   ]
  },
  {
   "cell_type": "code",
   "execution_count": 56,
   "metadata": {},
   "outputs": [
    {
     "name": "stdout",
     "output_type": "stream",
     "text": [
      "35.324069212725874\n",
      "82.53609519384764\n",
      "0.750202446895416\n"
     ]
    }
   ],
   "source": [
    "final_model = rand_search.best_estimator_\n",
    "final_predictions = final_model.predict(x_test_prepared)\n",
    "print(np.sqrt(mean_squared_error(y_test,final_predictions)))\n",
    "print(max_error(y_test,final_predictions))\n",
    "print(r2_score(y_test,final_predictions))"
   ]
  },
  {
   "cell_type": "code",
   "execution_count": null,
   "metadata": {},
   "outputs": [],
   "source": []
  }
 ],
 "metadata": {
  "kernelspec": {
   "display_name": "Python 3",
   "language": "python",
   "name": "python3"
  },
  "language_info": {
   "codemirror_mode": {
    "name": "ipython",
    "version": 3
   },
   "file_extension": ".py",
   "mimetype": "text/x-python",
   "name": "python",
   "nbconvert_exporter": "python",
   "pygments_lexer": "ipython3",
   "version": "3.7.3"
  }
 },
 "nbformat": 4,
 "nbformat_minor": 2
}
