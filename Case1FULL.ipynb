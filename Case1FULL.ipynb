{
 "cells": [
  {
   "cell_type": "code",
   "execution_count": 10,
   "metadata": {
    "collapsed": true
   },
   "outputs": [
    {
     "name": "stdout",
     "output_type": "stream",
     "text": [
      "Requirement already satisfied: xgboost in /home/jonah/snap/jupyter/common/lib/python3.7/site-packages (1.3.3)\n",
      "Requirement already satisfied: numpy in /home/jonah/snap/jupyter/common/lib/python3.7/site-packages (from xgboost) (1.20.0)\n",
      "Requirement already satisfied: scipy in /home/jonah/snap/jupyter/common/lib/python3.7/site-packages (from xgboost) (1.6.0)\n",
      "Requirement already satisfied: lightgbm in /home/jonah/snap/jupyter/common/lib/python3.7/site-packages (3.1.1)\n",
      "Requirement already satisfied: wheel in /snap/jupyter/6/lib/python3.7/site-packages (from lightgbm) (0.33.4)\n",
      "Requirement already satisfied: scikit-learn!=0.22.0 in /home/jonah/snap/jupyter/common/lib/python3.7/site-packages (from lightgbm) (0.24.1)\n",
      "Requirement already satisfied: scipy in /home/jonah/snap/jupyter/common/lib/python3.7/site-packages (from lightgbm) (1.6.0)\n",
      "Requirement already satisfied: numpy in /home/jonah/snap/jupyter/common/lib/python3.7/site-packages (from lightgbm) (1.20.0)\n",
      "Requirement already satisfied: joblib>=0.11 in /home/jonah/snap/jupyter/common/lib/python3.7/site-packages (from scikit-learn!=0.22.0->lightgbm) (1.0.0)\n",
      "Requirement already satisfied: threadpoolctl>=2.0.0 in /home/jonah/snap/jupyter/common/lib/python3.7/site-packages (from scikit-learn!=0.22.0->lightgbm) (2.1.0)\n",
      "Requirement already satisfied: mlxtend in /home/jonah/snap/jupyter/common/lib/python3.7/site-packages (0.18.0)\n",
      "Requirement already satisfied: numpy>=1.16.2 in /home/jonah/snap/jupyter/common/lib/python3.7/site-packages (from mlxtend) (1.20.0)\n",
      "Requirement already satisfied: joblib>=0.13.2 in /home/jonah/snap/jupyter/common/lib/python3.7/site-packages (from mlxtend) (1.0.0)\n",
      "Requirement already satisfied: scikit-learn>=0.20.3 in /home/jonah/snap/jupyter/common/lib/python3.7/site-packages (from mlxtend) (0.24.1)\n",
      "Requirement already satisfied: scipy>=1.2.1 in /home/jonah/snap/jupyter/common/lib/python3.7/site-packages (from mlxtend) (1.6.0)\n",
      "Requirement already satisfied: setuptools in /snap/jupyter/6/lib/python3.7/site-packages (from mlxtend) (41.0.1)\n",
      "Requirement already satisfied: pandas>=0.24.2 in /home/jonah/snap/jupyter/common/lib/python3.7/site-packages (from mlxtend) (1.2.1)\n",
      "Requirement already satisfied: matplotlib>=3.0.0 in /home/jonah/snap/jupyter/common/lib/python3.7/site-packages (from mlxtend) (3.3.4)\n",
      "Requirement already satisfied: threadpoolctl>=2.0.0 in /home/jonah/snap/jupyter/common/lib/python3.7/site-packages (from scikit-learn>=0.20.3->mlxtend) (2.1.0)\n",
      "Requirement already satisfied: pytz>=2017.3 in /home/jonah/snap/jupyter/common/lib/python3.7/site-packages (from pandas>=0.24.2->mlxtend) (2021.1)\n",
      "Requirement already satisfied: python-dateutil>=2.7.3 in /snap/jupyter/6/lib/python3.7/site-packages (from pandas>=0.24.2->mlxtend) (2.8.0)\n",
      "Requirement already satisfied: kiwisolver>=1.0.1 in /home/jonah/snap/jupyter/common/lib/python3.7/site-packages (from matplotlib>=3.0.0->mlxtend) (1.3.1)\n",
      "Requirement already satisfied: cycler>=0.10 in /home/jonah/snap/jupyter/common/lib/python3.7/site-packages (from matplotlib>=3.0.0->mlxtend) (0.10.0)\n",
      "Requirement already satisfied: pillow>=6.2.0 in /home/jonah/snap/jupyter/common/lib/python3.7/site-packages (from matplotlib>=3.0.0->mlxtend) (8.1.0)\n",
      "Requirement already satisfied: pyparsing!=2.0.4,!=2.1.2,!=2.1.6,>=2.0.3 in /home/jonah/snap/jupyter/common/lib/python3.7/site-packages (from matplotlib>=3.0.0->mlxtend) (2.4.7)\n",
      "Requirement already satisfied: six>=1.5 in /snap/jupyter/6/lib/python3.7/site-packages (from python-dateutil>=2.7.3->pandas>=0.24.2->mlxtend) (1.12.0)\n",
      "Requirement already satisfied: graphviz in /home/jonah/snap/jupyter/common/lib/python3.7/site-packages (0.16)\n"
     ]
    }
   ],
   "source": [
    "%%bash\n",
    "pip install xgboost\n",
    "pip install lightgbm\n",
    "pip install mlxtend\n",
    "pip install graphviz"
   ]
  },
  {
   "cell_type": "code",
   "execution_count": 59,
   "metadata": {
    "scrolled": true
   },
   "outputs": [],
   "source": [
    "import numpy as np # linear algebra\n",
    "import pandas as pd # data processing, CSV file I/O (e.g. pd.read_csv)\n",
    "from sklearn.linear_model import LinearRegression, ElasticNet, Lasso, Ridge\n",
    "from sklearn.svm import SVR\n",
    "from sklearn.tree import DecisionTreeRegressor\n",
    "from sklearn.ensemble import RandomForestRegressor, BaggingRegressor, AdaBoostRegressor, GradientBoostingRegressor\n",
    "from sklearn.metrics import explained_variance_score\n",
    "from sklearn.metrics import mean_squared_error\n",
    "from sklearn.metrics import max_error\n",
    "from sklearn.metrics import r2_score\n",
    "from sklearn.metrics import accuracy_score\n",
    "from sklearn.feature_selection import SelectFromModel\n",
    "\n",
    "from sklearn.decomposition import PCA\n",
    "from mlxtend.regressor import StackingCVRegressor\n",
    "from sklearn.model_selection import cross_val_score\n",
    "from sklearn.model_selection import KFold\n",
    "import matplotlib as mpl\n",
    "import matplotlib.pyplot as plt\n",
    "from scipy.stats import uniform, randint\n",
    "from scipy import stats\n",
    "import xgboost\n",
    "from xgboost import XGBRegressor\n",
    "from xgboost import plot_importance\n",
    "\n",
    "from lightgbm import LGBMRegressor\n",
    "import graphviz\n",
    "import warnings\n",
    "warnings.filterwarnings('ignore')"
   ]
  },
  {
   "cell_type": "code",
   "execution_count": 12,
   "metadata": {
    "collapsed": true
   },
   "outputs": [
    {
     "name": "stdout",
     "output_type": "stream",
     "text": [
      "Requirement already satisfied: missingno in /home/jonah/snap/jupyter/common/lib/python3.7/site-packages (0.4.2)\n",
      "Requirement already satisfied: numpy in /home/jonah/snap/jupyter/common/lib/python3.7/site-packages (from missingno) (1.20.0)\n",
      "Requirement already satisfied: matplotlib in /home/jonah/snap/jupyter/common/lib/python3.7/site-packages (from missingno) (3.3.4)\n",
      "Requirement already satisfied: scipy in /home/jonah/snap/jupyter/common/lib/python3.7/site-packages (from missingno) (1.6.0)\n",
      "Requirement already satisfied: seaborn in /home/jonah/snap/jupyter/common/lib/python3.7/site-packages (from missingno) (0.11.1)\n",
      "Requirement already satisfied: pillow>=6.2.0 in /home/jonah/snap/jupyter/common/lib/python3.7/site-packages (from matplotlib->missingno) (8.1.0)\n",
      "Requirement already satisfied: kiwisolver>=1.0.1 in /home/jonah/snap/jupyter/common/lib/python3.7/site-packages (from matplotlib->missingno) (1.3.1)\n",
      "Requirement already satisfied: cycler>=0.10 in /home/jonah/snap/jupyter/common/lib/python3.7/site-packages (from matplotlib->missingno) (0.10.0)\n",
      "Requirement already satisfied: python-dateutil>=2.1 in /snap/jupyter/6/lib/python3.7/site-packages (from matplotlib->missingno) (2.8.0)\n",
      "Requirement already satisfied: pyparsing!=2.0.4,!=2.1.2,!=2.1.6,>=2.0.3 in /home/jonah/snap/jupyter/common/lib/python3.7/site-packages (from matplotlib->missingno) (2.4.7)\n",
      "Requirement already satisfied: pandas>=0.23 in /home/jonah/snap/jupyter/common/lib/python3.7/site-packages (from seaborn->missingno) (1.2.1)\n",
      "Requirement already satisfied: six in /snap/jupyter/6/lib/python3.7/site-packages (from cycler>=0.10->matplotlib->missingno) (1.12.0)\n",
      "Requirement already satisfied: pytz>=2017.3 in /home/jonah/snap/jupyter/common/lib/python3.7/site-packages (from pandas>=0.23->seaborn->missingno) (2021.1)\n"
     ]
    }
   ],
   "source": [
    "import sys  \n",
    "!{sys.executable} -m pip install --user missingno\n",
    "\n",
    "import numpy as np # linear algebra\n",
    "import pandas as pd # data processing, CSV file I/O (e.g. pd.read_csv)\n",
    "import missingno\n",
    "from sklearn.model_selection import train_test_split\n",
    "from sklearn.model_selection import StratifiedShuffleSplit\n",
    "from pandas.plotting import scatter_matrix\n",
    "from sklearn.preprocessing import OrdinalEncoder\n",
    "from sklearn.preprocessing import OneHotEncoder\n",
    "from scipy import stats\n",
    "from sklearn.manifold import TSNE\n",
    "from sklearn.pipeline import Pipeline\n",
    "from sklearn.preprocessing import StandardScaler\n",
    "from sklearn.compose import ColumnTransformer\n",
    "import math"
   ]
  },
  {
   "cell_type": "code",
   "execution_count": 2,
   "metadata": {
    "scrolled": true
   },
   "outputs": [
    {
     "name": "stderr",
     "output_type": "stream",
     "text": [
      "/snap/jupyter/6/lib/python3.7/site-packages/ipykernel_launcher.py:1: ParserWarning: Falling back to the 'python' engine because the 'c' engine does not support regex separators (separators > 1 char and different from '\\s+' are interpreted as regex); you can avoid this warning by specifying engine='python'.\n",
      "  \"\"\"Entry point for launching an IPython kernel.\n"
     ]
    }
   ],
   "source": [
    "train_data = pd.read_csv('Case1/case1Data.txt', sep=\", \", header=0,index_col=None)\n",
    "train_data = train_data.replace(' NaN',np.nan)\n",
    "DatawMissing =train_data.replace(np.nan, 'Missing')\n"
   ]
  },
  {
   "cell_type": "code",
   "execution_count": 4,
   "metadata": {
    "scrolled": true
   },
   "outputs": [],
   "source": [
    "x_train_nan, x_test_nan, y_train, y_test = train_test_split(train_data.drop(columns='y'),train_data.iloc[:,0],test_size=0.2, random_state=42)\n",
    "x_train_missing, x_test_missing, y_train, y_test = train_test_split(DatawMissing.drop(columns='y'),DatawMissing.iloc[:,0],test_size=0.2, random_state=42)\n"
   ]
  },
  {
   "cell_type": "code",
   "execution_count": 7,
   "metadata": {
    "scrolled": true
   },
   "outputs": [],
   "source": [
    "x_train_full_missing = DatawMissing.drop(columns='y')\n",
    "y_train_full_missing = DatawMissing.iloc[:,0]"
   ]
  },
  {
   "cell_type": "code",
   "execution_count": 8,
   "metadata": {
    "scrolled": true
   },
   "outputs": [],
   "source": [
    "num_pipeline = Pipeline([\n",
    "('std_scaler', StandardScaler()),\n",
    "])\n",
    "num_attribs = list(train_data[train_data.columns[1:-5]])\n",
    "cat_attribs = [\"C_1\", \"C_2\",\"C_3\",\"C_4\",\"C_5\"]\n",
    "full_pipeline = ColumnTransformer([\n",
    "(\"num\", num_pipeline, num_attribs),\n",
    "(\"cat\",  OneHotEncoder(), cat_attribs), \n",
    "])"
   ]
  },
  {
   "cell_type": "code",
   "execution_count": 9,
   "metadata": {
    "scrolled": true
   },
   "outputs": [],
   "source": [
    "x_train_nan_prepared = full_pipeline.fit_transform(x_train_nan)\n",
    "x_test_nan_prepared = full_pipeline.transform(x_test_nan)\n",
    "x_train_missing_prepared = full_pipeline.fit_transform(x_train_missing)\n",
    "x_test_missing_prepared = full_pipeline.transform(x_test_missing)\n",
    "x_train_full_missing_prepared = full_pipeline.fit_transform(x_train_full_missing)"
   ]
  },
  {
   "cell_type": "code",
   "execution_count": 96,
   "metadata": {
    "scrolled": true
   },
   "outputs": [
    {
     "name": "stdout",
     "output_type": "stream",
     "text": [
      "38.70818975466528\n",
      "96.95906876368696\n",
      "0.7000475258192909\n"
     ]
    }
   ],
   "source": [
    "lasso_reg = Lasso()\n",
    "lasso_reg.fit(x_train_missing_prepared, y_train)\n",
    "y_pred = lasso_reg.predict(x_test_missing_prepared)\n",
    "print(np.sqrt(mean_squared_error(y_test,y_pred)))\n",
    "print(max_error(y_test,y_pred))\n",
    "print(r2_score(y_test,y_pred))"
   ]
  },
  {
   "cell_type": "code",
   "execution_count": 94,
   "metadata": {
    "scrolled": true
   },
   "outputs": [
    {
     "name": "stdout",
     "output_type": "stream",
     "text": [
      "37.823132031926825\n",
      "85.78877058999994\n",
      "0.7136074585788774\n",
      "0.6341730518170546\n",
      "9 most important features: [72, 41, 51, 94, 50, 66, 71, 89, 13]\n"
     ]
    }
   ],
   "source": [
    "forest_reg = RandomForestRegressor(oob_score = True,random_state=42)\n",
    "forest_reg.fit(x_train_missing_prepared, y_train)\n",
    "y_pred = forest_reg.predict(x_test_missing_prepared)\n",
    "\n",
    "print(np.sqrt(mean_squared_error(y_test,y_pred)))\n",
    "print(max_error(y_test,y_pred))\n",
    "print(r2_score(y_test,y_pred))\n",
    "print(forest_reg.oob_score_)\n",
    "important_features_dict = {}\n",
    "for idx, val in enumerate(forest_reg.feature_importances_):\n",
    "    important_features_dict[idx] = val\n",
    "\n",
    "important_features_list = sorted(important_features_dict,\n",
    "                                 key=important_features_dict.get,\n",
    "                                 reverse=True)\n",
    "\n",
    "print('9 most important features:',important_features_list[:9])"
   ]
  },
  {
   "cell_type": "code",
   "execution_count": 100,
   "metadata": {
    "scrolled": true
   },
   "outputs": [
    {
     "name": "stdout",
     "output_type": "stream",
     "text": [
      "36.52486301873651\n",
      "78.45082506933593\n",
      "0.7329307310950741\n",
      "9 most important features: [72, 41, 51, 118, 94, 89, 105, 43, 83]\n"
     ]
    }
   ],
   "source": [
    "xgb_reg = XGBRegressor(learning_rate=0.01,n_estimators=3460,\n",
    "                                     max_depth=3, min_child_weight=0,\n",
    "                                     gamma=0, subsample=0.7,\n",
    "                                     colsample_bytree=0.7,\n",
    "                                     objective='reg:linear', nthread=-1,\n",
    "                                     scale_pos_weight=1, seed=42,\n",
    "                                     reg_alpha=0.00006,verbosity=0)\n",
    "xgb_reg.fit(x_train_nan_prepared, y_train)\n",
    "y_pred = xgb_reg.predict(x_test_nan_prepared)\n",
    "\n",
    "print(np.sqrt(mean_squared_error(y_test,y_pred)))\n",
    "print(max_error(y_test,y_pred))\n",
    "print(r2_score(y_test,y_pred))\n",
    "important_features_dict = {}\n",
    "for idx, val in enumerate(xgb_reg.feature_importances_):\n",
    "    important_features_dict[idx] = val\n",
    "\n",
    "important_features_list = sorted(important_features_dict,\n",
    "                                 key=important_features_dict.get,\n",
    "                                 reverse=True)\n",
    "\n",
    "print('9 most important features:',important_features_list[:9])"
   ]
  },
  {
   "cell_type": "markdown",
   "metadata": {},
   "source": [
    "## Cross Validation "
   ]
  },
  {
   "cell_type": "code",
   "execution_count": 38,
   "metadata": {
    "scrolled": true
   },
   "outputs": [],
   "source": [
    "kfold = KFold(n_splits=5, random_state=42,shuffle=True)"
   ]
  },
  {
   "cell_type": "code",
   "execution_count": 77,
   "metadata": {
    "scrolled": true
   },
   "outputs": [
    {
     "name": "stdout",
     "output_type": "stream",
     "text": [
      "[17:34:47] WARNING: ../src/objective/regression_obj.cu:170: reg:linear is now deprecated in favor of reg:squarederror.\n",
      "[17:34:49] WARNING: ../src/objective/regression_obj.cu:170: reg:linear is now deprecated in favor of reg:squarederror.\n",
      "[17:34:51] WARNING: ../src/objective/regression_obj.cu:170: reg:linear is now deprecated in favor of reg:squarederror.\n",
      "[17:34:53] WARNING: ../src/objective/regression_obj.cu:170: reg:linear is now deprecated in favor of reg:squarederror.\n",
      "[17:34:55] WARNING: ../src/objective/regression_obj.cu:170: reg:linear is now deprecated in favor of reg:squarederror.\n",
      "XGBoost RMSE: (49.09702574262583, 1805.294474347253)\n"
     ]
    }
   ],
   "source": [
    "results = cross_val_score(xgb_reg, x_train_missing_prepared, y_train, scoring=\"neg_mean_squared_error\",cv=kfold)\n",
    "#print(\"XGBoost Accuracy: %.2f%% (%.2f%%)\" % (results.mean()*100, results.std()*100))\n",
    "print(\"XGBoost RMSE:\", (np.sqrt(-results.mean()), results.std()))"
   ]
  },
  {
   "cell_type": "code",
   "execution_count": 83,
   "metadata": {
    "scrolled": true
   },
   "outputs": [
    {
     "name": "stdout",
     "output_type": "stream",
     "text": [
      "Random forest RMSE: (54.2983623314413, 1981.8450117429363)\n"
     ]
    }
   ],
   "source": [
    "results = cross_val_score(forest_reg, x_train_missing_prepared, y_train,  scoring=\"neg_mean_squared_error\",cv=kfold)\n",
    "print(\"Random forest RMSE:\", (np.sqrt(-results.mean()), results.std()))"
   ]
  },
  {
   "cell_type": "code",
   "execution_count": 79,
   "metadata": {
    "scrolled": true
   },
   "outputs": [
    {
     "name": "stdout",
     "output_type": "stream",
     "text": [
      "Lasso  RMSE: (35.442059505997136, 256.5820162033372)\n"
     ]
    }
   ],
   "source": [
    "results = cross_val_score(lasso_reg, x_train_missing_prepared, y_train,  scoring=\"neg_mean_squared_error\", cv=kfold)\n",
    "print(\"Lasso  RMSE:\", (np.sqrt(-results.mean()), results.std()))"
   ]
  },
  {
   "cell_type": "markdown",
   "metadata": {},
   "source": [
    "### GridSearchCV for all model"
   ]
  },
  {
   "cell_type": "code",
   "execution_count": 111,
   "metadata": {},
   "outputs": [
    {
     "name": "stdout",
     "output_type": "stream",
     "text": [
      "Fitting 5 folds for each of 18 candidates, totalling 90 fits\n"
     ]
    }
   ],
   "source": [
    "from sklearn.model_selection import GridSearchCV\n",
    "\n",
    "param_grid = {\n",
    "    'bootstrap': [True],\n",
    "    'max_depth': [40, 50,60],\n",
    "    'max_features': [5],\n",
    "    'min_samples_leaf': [1],\n",
    "    'min_samples_split': [1,2,4],\n",
    "    'n_estimators': [40,60]\n",
    "}\n",
    "grid_search = GridSearchCV(estimator = forest_reg, param_grid = param_grid, \n",
    "                          cv =kfold, n_jobs = -1, verbose = 1,scoring='explained_variance')\n",
    "grid_search.fit(x_train_missing_prepared, y_train)\n",
    "grid_search.best_params_\n",
    "final_forest_reg = grid_search.best_estimator_"
   ]
  },
  {
   "cell_type": "code",
   "execution_count": 88,
   "metadata": {},
   "outputs": [
    {
     "name": "stdout",
     "output_type": "stream",
     "text": [
      "Random forest RMSE: (0.15411820237512763, 0.12431758321129517)\n"
     ]
    }
   ],
   "source": [
    "results = cross_val_score(final_forest_reg, x_test_missing_prepared, y_test, cv=kfold)\n",
    "print(\"Random forest RMSE:\", (np.sqrt(-results.mean()), results.std()))"
   ]
  },
  {
   "cell_type": "code",
   "execution_count": 112,
   "metadata": {},
   "outputs": [
    {
     "name": "stdout",
     "output_type": "stream",
     "text": [
      "{'bootstrap': True, 'max_depth': 40, 'max_features': 5, 'min_samples_leaf': 1, 'min_samples_split': 4, 'n_estimators': 60}\n"
     ]
    },
    {
     "data": {
      "text/plain": [
       "0.33139546621345817"
      ]
     },
     "execution_count": 112,
     "metadata": {},
     "output_type": "execute_result"
    }
   ],
   "source": [
    "print(grid_search.best_params_)\n",
    "grid_search.best_score_"
   ]
  },
  {
   "cell_type": "markdown",
   "metadata": {},
   "source": [
    "## CV with Feature selection"
   ]
  },
  {
   "cell_type": "code",
   "execution_count": 54,
   "metadata": {
    "scrolled": true
   },
   "outputs": [
    {
     "name": "stdout",
     "output_type": "stream",
     "text": [
      "for the 3 most important features:\n",
      "Accuracy: 66.74% (9.82%)\n",
      "for the 4 most important features:\n",
      "Accuracy: 66.54% (10.43%)\n",
      "for the 5 most important features:\n",
      "Accuracy: 79.53% (6.27%)\n",
      "for the 6 most important features:\n",
      "Accuracy: 78.34% (6.76%)\n",
      "for the 7 most important features:\n",
      "Accuracy: 77.23% (7.47%)\n",
      "for the 8 most important features:\n",
      "Accuracy: 75.36% (8.76%)\n",
      "for the 9 most important features:\n",
      "Accuracy: 75.06% (8.78%)\n",
      "for the 10 most important features:\n",
      "Accuracy: 74.67% (9.25%)\n",
      "for the 11 most important features:\n",
      "Accuracy: 73.89% (8.10%)\n"
     ]
    }
   ],
   "source": [
    "for i in range(3,12):\n",
    "    selector = SelectFromModel(estimator=forest_reg,max_features=i,prefit=True)\n",
    "    fsXTRAIN=selector.transform(x_train_full_missing_prepared)\n",
    "    results = cross_val_score(forest_reg, fsXTRAIN, y_train_full_missing, cv=kfold)\n",
    "    print(\"for the\",i,\"most important features:\")\n",
    "    print(\"Accuracy: %.2f%% (%.2f%%)\" % (results.mean()*100, results.std()*100))"
   ]
  },
  {
   "cell_type": "code",
   "execution_count": 105,
   "metadata": {
    "scrolled": true
   },
   "outputs": [
    {
     "name": "stdout",
     "output_type": "stream",
     "text": [
      "for the 1 most important features:\n",
      "Accuracy: 46.51% (9.80%)\n",
      "for the 2 most important features:\n",
      "Accuracy: 67.03% (4.48%)\n",
      "for the 3 most important features:\n",
      "Accuracy: 81.92% (6.85%)\n",
      "for the 4 most important features:\n",
      "Accuracy: 83.03% (6.93%)\n",
      "for the 5 most important features:\n",
      "Accuracy: 83.43% (6.97%)\n",
      "for the 6 most important features:\n",
      "Accuracy: 84.81% (5.86%)\n",
      "for the 7 most important features:\n",
      "Accuracy: 85.37% (5.55%)\n",
      "for the 8 most important features:\n",
      "Accuracy: 85.24% (5.62%)\n",
      "for the 9 most important features:\n",
      "Accuracy: 85.18% (5.72%)\n",
      "for the 10 most important features:\n",
      "Accuracy: 84.97% (6.10%)\n",
      "for the 11 most important features:\n",
      "Accuracy: 85.20% (5.54%)\n",
      "for the 12 most important features:\n",
      "Accuracy: 85.06% (5.76%)\n",
      "for the 13 most important features:\n",
      "Accuracy: 84.56% (6.30%)\n",
      "for the 14 most important features:\n",
      "Accuracy: 84.16% (6.81%)\n",
      "for the 15 most important features:\n",
      "Accuracy: 84.13% (6.86%)\n",
      "for the 16 most important features:\n",
      "Accuracy: 83.99% (6.93%)\n",
      "for the 17 most important features:\n",
      "Accuracy: 83.96% (6.92%)\n"
     ]
    }
   ],
   "source": [
    "for i in range(1,18):\n",
    "    selector = SelectFromModel(estimator=lasso_reg,max_features=i,prefit=True)\n",
    "    fsXTRAIN=selector.transform(x_train_full_missing_prepared)\n",
    "    results = cross_val_score(lasso_reg, fsXTRAIN, y_train_full_missing, cv=kfold)\n",
    "    print(\"for the\",i,\"most important features:\")\n",
    "    print(\"Accuracy: %.2f%% (%.2f%%)\" % (results.mean()*100, results.std()*100))"
   ]
  },
  {
   "cell_type": "code",
   "execution_count": 103,
   "metadata": {
    "scrolled": true
   },
   "outputs": [
    {
     "name": "stdout",
     "output_type": "stream",
     "text": [
      "for the 2 most important features:\n",
      "Accuracy: 48.08% (23.22%)\n",
      "for the 3 most important features:\n",
      "Accuracy: 64.41% (12.38%)\n",
      "for the 4 most important features:\n",
      "Accuracy: 61.70% (12.86%)\n",
      "for the 5 most important features:\n",
      "Accuracy: 64.31% (12.23%)\n",
      "for the 6 most important features:\n",
      "Accuracy: 64.18% (14.74%)\n",
      "for the 7 most important features:\n",
      "Accuracy: 63.46% (14.27%)\n",
      "for the 8 most important features:\n",
      "Accuracy: 60.88% (15.75%)\n",
      "for the 9 most important features:\n",
      "Accuracy: 61.22% (12.02%)\n",
      "for the 10 most important features:\n",
      "Accuracy: 82.89% (5.31%)\n",
      "for the 11 most important features:\n",
      "Accuracy: 81.74% (5.49%)\n",
      "for the 12 most important features:\n",
      "Accuracy: 81.33% (5.36%)\n",
      "for the 13 most important features:\n",
      "Accuracy: 81.44% (5.95%)\n",
      "for the 14 most important features:\n",
      "Accuracy: 78.96% (6.58%)\n",
      "for the 15 most important features:\n",
      "Accuracy: 79.87% (6.53%)\n"
     ]
    }
   ],
   "source": [
    "for i in range(2,16):\n",
    "    selector = SelectFromModel(estimator=xgb_reg,max_features=i,prefit=True)\n",
    "    fsXTRAIN=selector.transform(x_train_full_missing_prepared)\n",
    "    results = cross_val_score(xgb_reg, fsXTRAIN, y_train_full_missing, cv=kfold)\n",
    "    print(\"for the\",i,\"most important features:\")\n",
    "    print(\"Accuracy: %.2f%% (%.2f%%)\" % (results.mean()*100, results.std()*100))"
   ]
  },
  {
   "cell_type": "code",
   "execution_count": null,
   "metadata": {
    "scrolled": true
   },
   "outputs": [],
   "source": []
  }
 ],
 "metadata": {
  "kernelspec": {
   "display_name": "Python 3",
   "language": "python",
   "name": "python3"
  },
  "language_info": {
   "codemirror_mode": {
    "name": "ipython",
    "version": 3
   },
   "file_extension": ".py",
   "mimetype": "text/x-python",
   "name": "python",
   "nbconvert_exporter": "python",
   "pygments_lexer": "ipython3",
   "version": "3.7.3"
  }
 },
 "nbformat": 4,
 "nbformat_minor": 2
}
